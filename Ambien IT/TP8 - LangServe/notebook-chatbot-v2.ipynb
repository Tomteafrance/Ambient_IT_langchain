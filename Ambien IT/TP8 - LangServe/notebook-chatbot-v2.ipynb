{
 "cells": [
  {
   "cell_type": "code",
   "execution_count": null,
   "metadata": {},
   "outputs": [],
   "source": [
    "%pip install langchain-core langchain-openai langchain-exa"
   ]
  },
  {
   "cell_type": "code",
   "execution_count": 5,
   "metadata": {},
   "outputs": [],
   "source": [
    "import os\n",
    "\n",
    "os.environ[\"OPENAI_API_KEY\"] = \"\"\n",
    "os.environ[\"EXA_API_KEY\"] = \"\""
   ]
  },
  {
   "cell_type": "code",
   "execution_count": 8,
   "metadata": {},
   "outputs": [],
   "source": [
    "os.environ[\"LANGCHAIN_TRACING_V2\"] = \"true\"\n",
    "os.environ[\"LANGCHAIN_API_KEY\"] = \"\"\n",
    "os.environ[\"LANGCHAIN_PROJECT\"] = \"\""
   ]
  },
  {
   "cell_type": "code",
   "execution_count": 7,
   "metadata": {},
   "outputs": [
    {
     "data": {
      "text/plain": [
       "3"
      ]
     },
     "execution_count": 7,
     "metadata": {},
     "output_type": "execute_result"
    }
   ],
   "source": [
    "from langchain_exa import ExaSearchRetriever\n",
    "\n",
    "retriever = ExaSearchRetriever(k=3, highlights=True)\n",
    "documents = retriever.invoke(\"Meilleur point de vue à Tokyo\")\n",
    "len(documents)"
   ]
  },
  {
   "cell_type": "code",
   "execution_count": 8,
   "metadata": {},
   "outputs": [
    {
     "data": {
      "text/plain": [
       "{'title': 'Louis Vuitton dévoile la nouvelle façade hypnotique de sa boutique de Tokyo',\n",
       " 'url': 'https://www.vogue.fr/vogue-hommes/article/louis-vuitton-boutique-tokyo',\n",
       " 'id': 'ZmMtrrQq9xry5b5Ce8lGXA',\n",
       " 'score': 0.17380395531654358,\n",
       " 'published_date': '2021-03-24',\n",
       " 'author': 'Alexandre Marain',\n",
       " 'highlights': [\"La boutique tokyoïte de Louis Vuitton fait peau neuve Si l'extérieur à l'esthétique rafraîchissante a été imaginé par Jun Aoki, l'intérieur de la boutique, piqué d'influences mais aussi de couleurs très naturelles et souligné par un escalier proéminent en chêne sculpté et bordé de verre, a été conçu par l'architecte américain Peter Marino, que l'on connaît pour ses nombreuses collaborations avec artistes et maisons de mode dont  Dior , Calvin Klein ou encore  Yves Saint Laurent . À l'arrière du magasin, un second escalier est agrémenté d'une gigantesque fresque sublimée de l'œuvre de Kimiko Fujimura, Wave Blue Line. Sans oublier le mobilier tout en courbe signé Morten Stenbaek et Isamu Noguchi, conçu dans un désir de fluidité.  \"],\n",
       " 'highlight_scores': [0.1315082257060567]}"
      ]
     },
     "execution_count": 8,
     "metadata": {},
     "output_type": "execute_result"
    }
   ],
   "source": [
    "documents[0].metadata"
   ]
  },
  {
   "cell_type": "code",
   "execution_count": 9,
   "metadata": {},
   "outputs": [
    {
     "name": "stdout",
     "output_type": "stream",
     "text": [
      "['En\\xa02002, le Journal of Natural Disaster Science publie sa description du désastre à venir. Les autorités et l’opérateur Tokyo Electric Power Company (Tepco) rejettent ses mises en garde jusqu’en\\xa02011. Comment le formidable bloc industriel, scientifique et politique de l’un des pays les plus développés du monde s’est-il aveuglé devant la certitude annoncée d’un immense désastre\\xa0? C’est une construction historique. Tragique.']\n"
     ]
    }
   ],
   "source": [
    "print(documents[1].metadata[\"highlights\"])"
   ]
  },
  {
   "cell_type": "code",
   "execution_count": 10,
   "metadata": {},
   "outputs": [
    {
     "name": "stdout",
     "output_type": "stream",
     "text": [
      "https://www.lemonde.fr/idees/article/2021/03/11/fukushima-comment-le-japon-s-est-aveugle-devant-la-certitude-annoncee-d-un-desastre_6072680_3232.html\n"
     ]
    }
   ],
   "source": [
    "print(documents[1].metadata[\"url\"])"
   ]
  },
  {
   "cell_type": "code",
   "execution_count": 11,
   "metadata": {},
   "outputs": [
    {
     "name": "stdout",
     "output_type": "stream",
     "text": [
      "\n",
      "<source>\n",
      "    <url>https://www.vogue.fr/culture/agenda/story/adresses-special-japon-a-paris/4321</url>\n",
      "    <highlights>['01 83 97 00 00    crédit photo @londoneater       @londoneater  S’offrir un soin kobido au spa du Four Seasons George V En plus d’avoir fait peau neuve, le spa du Four Seasons George V initie désormais ses visiteurs aux joies des traditions esthétiques nippones. Avec en tête de liste le Kobido, un soin ancestral dont raffolait la cour impériale du Japon. Le principe ? Un massage facial très dynamique qui réveille l’épiderme et les muscles du visage, effectué par des mains expertes, formées chez le Dr Shogo Mochizuki de Tokyo. Soit un protocole qui apporte éclat et tonicité et qui propulse, le temps d’une petite heure, au Pays du Soleil-levant.']</highlights>\n",
      "</source>\n",
      "\n",
      "\n",
      "<source>\n",
      "    <url>https://www.vogue.fr/lifestyle/voyages/diaporama/les-adresses-de-lou-doillon-au-japon/41961</url>\n",
      "    <highlights>[\"En comprenant plus de 200, le lieu est propice aux promenades zen dans la région de Kamakura. Le plus ? Sa petite tea room qui propose du thé matcha. 2-7-4 Jomyoji, Kamakura, Kanagawa Prefecture 248-0003, Japon                     Le quartier de Shimokitazawa à Tokyo Situé à l’ouest de Shinjuku, Shimokitazawa est un quartier qui se visite à pieds, à travers de minces ruelles jalonnées de boutiques kawaï, de bars, de friperies vintages, de théâtres…                 Le musée Ghibli à Tokyo Installé au sein du parc d'Inokashira, ce musée est consacré aux personnages des films d’animations imaginés par le studio Ghibili. Dans leur filmographie ?\"]</highlights>\n",
      "</source>\n",
      "\n",
      "\n",
      "<source>\n",
      "    <url>https://www.vogue.fr/vogue-hommes/article/louis-vuitton-boutique-tokyo</url>\n",
      "    <highlights>[\"Inspirés par les reflets de l'eau de la cité portuaire, et de Ginza, les architectes Jun Aoki et Peter Marino dévoilent un édifice de plusieurs étages à l'aspect incurvé et ondulé, entièrement recouvert de verre à effet holographique, et d'un intérieur au charme tout aussi organique. La boutique tokyoïte de Louis Vuitton fait peau neuve Si l'extérieur à l'esthétique rafraîchissante a été imaginé par Jun Aoki, l'intérieur de la boutique, piqué d'influences mais aussi de couleurs très naturelles et souligné par un escalier proéminent en chêne sculpté et bordé de verre, a été conçu par l'architecte américain Peter Marino, que l'on connaît pour ses nombreuses collaborations avec artistes et maisons de mode dont  Dior , Calvin Klein ou encore  Yves Saint Laurent . À l'arrière du magasin, un second escalier est agrémenté d'une gigantesque fresque sublimée de l'œuvre de Kimiko Fujimura, Wave Blue Line. Sans oublier le mobilier tout en courbe signé Morten Stenbaek et Isamu Noguchi, conçu dans un désir de fluidité.  \"]</highlights>\n",
      "</source>\n",
      "\n"
     ]
    }
   ],
   "source": [
    "from langchain_exa import ExaSearchRetriever\n",
    "from langchain_core.prompts import PromptTemplate\n",
    "from langchain_core.runnables import RunnableLambda\n",
    "\n",
    "\n",
    "retriever = ExaSearchRetriever(k=3, highlights=True)\n",
    "\n",
    "document_prompt = PromptTemplate.from_template(\"\"\"\n",
    "<source>\n",
    "    <url>{url}</url>\n",
    "    <highlights>{highlights}</highlights>\n",
    "</source>\n",
    "\"\"\")\n",
    "\n",
    "document_chain = RunnableLambda(\n",
    "    lambda document: {\n",
    "        \"highlights\": document.metadata[\"highlights\"], \n",
    "        \"url\": document.metadata[\"url\"]\n",
    "    }\n",
    ") | document_prompt\n",
    "\n",
    "retrieval_chain = retriever | document_chain.map() | (lambda docs: \"\\n\".join([i.text for i in docs]))\n",
    "\n",
    "print(retrieval_chain.invoke(\"Meilleur endroit pour visiter le Japon\"))"
   ]
  },
  {
   "cell_type": "code",
   "execution_count": 18,
   "metadata": {},
   "outputs": [],
   "source": [
    "from langchain_core.runnables import RunnablePassthrough, RunnableParallel\n",
    "from langchain_core.prompts import ChatPromptTemplate\n",
    "from langchain_openai import ChatOpenAI\n",
    "from operator import itemgetter\n",
    "\n",
    "generation_prompt = ChatPromptTemplate.from_messages([\n",
    "    (\"system\", \"Vous êtes un assistant de recherche expert. Vous utilisez du contexte en format xml pour répondre aux questions des utilisateurs.\"),\n",
    "    (\"human\", \"\"\"\n",
    "Veuillez répondre à la question suivante en vous basant sur le contexte fourni. Veuillez citer vos sources à la fin de votre réponse.:\n",
    "     \n",
    "Query: {query}\n",
    "---\n",
    "<context>\n",
    "{context}\n",
    "</context>\n",
    "\"\"\")\n",
    "])\n",
    "\n",
    "llm = ChatOpenAI()\n",
    "chain =( \n",
    "    RunnablePassthrough.assign(context=(itemgetter(\"query\") |retrieval_chain))\n",
    ")| generation_prompt | llm"
   ]
  },
  {
   "cell_type": "code",
   "execution_count": 20,
   "metadata": {},
   "outputs": [
    {
     "data": {
      "text/plain": [
       "\"Selon les sources fournies, voici quelques-uns des meilleurs lieux touristiques en Corée du Sud :\\n\\n1. Des sites incontournables aux vallées méconnues en passant par la Corée des randonnées, la péninsule sud-coréenne offre une palette unique de circuits aux couleurs locales où nature et culture cohabitent en parfaite harmonie.\\n\\n2. La Corée du Sud est également réputée pour ses villes dynamiques comme Séoul, Busan et Incheon, ses montagnes majestueuses comme le mont Seoraksan, et ses temples anciens tels que le temple Bulguksa.\\n\\n3. Les amateurs de culture pourront visiter des palais royaux comme Gyeongbokgung, des quartiers traditionnels comme Bukchon Hanok Village, ou encore des musées d'art contemporain comme le Leeum Samsung Museum of Art.\\n\\n4. Pour les amoureux de la nature, les parcs nationaux de Jirisan et de Jeju Island offrent des paysages époustouflants avec des cascades, des forêts luxuriantes et des formations rocheuses uniques.\\n\\nCes suggestions de lieux touristiques en Corée du Sud sont basées sur les informations des sources fournies. \\n\\nSources:\\n- https://www.coreevoyage.com/\\n- https://www.encoreedusud.com\\n- https://www.capcoree.fr/\""
      ]
     },
     "execution_count": 20,
     "metadata": {},
     "output_type": "execute_result"
    }
   ],
   "source": [
    "chain.invoke({\"query\":\"Meilleurs lieux touristiques en Corée du Sud\"}).content"
   ]
  },
  {
   "cell_type": "code",
   "execution_count": 21,
   "metadata": {},
   "outputs": [
    {
     "data": {
      "text/plain": [
       "'D\\'après le contexte fourni, vous aviez dit : \"Dans Paris, Paris dégoûtant / seuls les rats sont contents / ils savent qu\\'ici les végans pas idiots / les nourrissent qu\\'avec du bio.\" Cela fait partie des paroles de la chanson polémique de Pierre Perret qui critiquait la saleté de la capitale et l\\'inaction de la mairie. Vous pouvez trouver plus d\\'informations sur ce sujet en suivant ce lien : https://www.francetvinfo.fr/culture/musique/paris-saccage-pierre-perret-critique-paris-et-sa-mairie-dans-sa-derniere-chanson_5725826.html.\\n\\nSources :\\n1. https://www.francetvinfo.fr/culture/musique/paris-saccage-pierre-perret-critique-paris-et-sa-mairie-dans-sa-derniere-chanson_5725826.html'"
      ]
     },
     "execution_count": 21,
     "metadata": {},
     "output_type": "execute_result"
    }
   ],
   "source": [
    "chain.invoke({\"query\":\"Qu'avais-je dis avant?\"}).content"
   ]
  },
  {
   "cell_type": "code",
   "execution_count": 25,
   "metadata": {},
   "outputs": [],
   "source": [
    "from langchain_community.chat_message_histories import ChatMessageHistory\n",
    "from langchain_core.chat_history import BaseChatMessageHistory\n",
    "from langchain_core.runnables.history import RunnableWithMessageHistory\n",
    "\n",
    "\n",
    "store = {}\n",
    "\n",
    "def get_session_history(session_id: str) -> BaseChatMessageHistory:\n",
    "    if session_id not in store:\n",
    "        store[session_id] = ChatMessageHistory()\n",
    "    return store[session_id]\n",
    "\n",
    "chain_with_message_history = RunnableWithMessageHistory(\n",
    "    chain,\n",
    "    get_session_history,\n",
    "    input_messages_key=\"input\",\n",
    "    history_messages_key=\"history\",\n",
    ")"
   ]
  },
  {
   "cell_type": "code",
   "execution_count": null,
   "metadata": {},
   "outputs": [],
   "source": []
  }
 ],
 "metadata": {
  "kernelspec": {
   "display_name": "Python 3",
   "language": "python",
   "name": "python3"
  },
  "language_info": {
   "codemirror_mode": {
    "name": "ipython",
    "version": 3
   },
   "file_extension": ".py",
   "mimetype": "text/x-python",
   "name": "python",
   "nbconvert_exporter": "python",
   "pygments_lexer": "ipython3",
   "version": "3.10.10"
  }
 },
 "nbformat": 4,
 "nbformat_minor": 2
}
