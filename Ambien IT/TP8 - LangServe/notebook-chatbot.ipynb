{
 "cells": [
  {
   "cell_type": "code",
   "execution_count": null,
   "metadata": {},
   "outputs": [],
   "source": [
    "%pip install langchain-core langchain-openai langchain-exa"
   ]
  },
  {
   "cell_type": "code",
   "execution_count": 9,
   "metadata": {},
   "outputs": [],
   "source": [
    "import os\n",
    "\n",
    "os.environ[\"OPENAI_API_KEY\"] = \"\"\n",
    "os.environ[\"EXA_API_KEY\"] = \"\""
   ]
  },
  {
   "cell_type": "code",
   "execution_count": 8,
   "metadata": {},
   "outputs": [],
   "source": [
    "os.environ[\"LANGCHAIN_TRACING_V2\"] = \"true\"\n",
    "os.environ[\"LANGCHAIN_API_KEY\"] = \"\"\n",
    "os.environ[\"LANGCHAIN_PROJECT\"] = \"\""
   ]
  },
  {
   "cell_type": "code",
   "execution_count": 10,
   "metadata": {},
   "outputs": [
    {
     "data": {
      "text/plain": [
       "3"
      ]
     },
     "execution_count": 10,
     "metadata": {},
     "output_type": "execute_result"
    }
   ],
   "source": [
    "from langchain_exa import ExaSearchRetriever\n",
    "\n",
    "retriever = ExaSearchRetriever(k=3, highlights=True)\n",
    "documents = retriever.invoke(\"Meilleur point de vue à Tokyo\")\n",
    "len(documents)"
   ]
  },
  {
   "cell_type": "code",
   "execution_count": 11,
   "metadata": {},
   "outputs": [
    {
     "data": {
      "text/plain": [
       "{'title': 'Louis Vuitton dévoile la nouvelle façade hypnotique de sa boutique de Tokyo',\n",
       " 'url': 'https://www.vogue.fr/vogue-hommes/article/louis-vuitton-boutique-tokyo',\n",
       " 'id': 'ZmMtrrQq9xry5b5Ce8lGXA',\n",
       " 'score': 0.17380395531654358,\n",
       " 'published_date': '2021-03-24',\n",
       " 'author': 'Alexandre Marain',\n",
       " 'highlights': ['Sans oublier le mobilier tout en courbe signé Morten Stenbaek et Isamu Noguchi, conçu dans un désir de fluidité.  '],\n",
       " 'highlight_scores': [0.04403303558210609]}"
      ]
     },
     "execution_count": 11,
     "metadata": {},
     "output_type": "execute_result"
    }
   ],
   "source": [
    "documents[0].metadata"
   ]
  },
  {
   "cell_type": "code",
   "execution_count": 12,
   "metadata": {},
   "outputs": [
    {
     "name": "stdout",
     "output_type": "stream",
     "text": [
      "['Publié le 11 mars 2021 à 06h00, mis à jour le 11 mars 2021 à 10h14 Temps de Lecture 8 min. Article réservé aux abonnés       Tribune. Koji Minoura, géologue à l’université de Sendai, près de Fukushima, connaît sa région. Amateur de poésie ancienne, il découvre à la fin des années 1980 un poème du Xe\\xa0siècle\\xa0: «\\xa0Nos manches mouillées de larmes/Etaient témoins que notre amour/Durerait encore lorsque à Sue/Par-dessus le mont des Pins/Se brisent les vagues de l’océan. »  Le mont des Pins, à 4\\xa0km de la côte, a-t-il subi un tsunami oublié, lors du séisme connu du 11\\xa0juillet 869\\xa0?']\n"
     ]
    }
   ],
   "source": [
    "print(documents[1].metadata[\"highlights\"])"
   ]
  },
  {
   "cell_type": "code",
   "execution_count": 13,
   "metadata": {},
   "outputs": [
    {
     "name": "stdout",
     "output_type": "stream",
     "text": [
      "https://www.lemonde.fr/idees/article/2021/03/11/fukushima-comment-le-japon-s-est-aveugle-devant-la-certitude-annoncee-d-un-desastre_6072680_3232.html\n"
     ]
    }
   ],
   "source": [
    "print(documents[1].metadata[\"url\"])"
   ]
  },
  {
   "cell_type": "code",
   "execution_count": 17,
   "metadata": {},
   "outputs": [
    {
     "name": "stdout",
     "output_type": "stream",
     "text": [
      "\n",
      "<source>\n",
      "    <url>https://www.vogue.fr/culture/agenda/story/adresses-special-japon-a-paris/4321</url>\n",
      "    <highlights>[\"Le principe ? Un massage facial très dynamique qui réveille l’épiderme et les muscles du visage, effectué par des mains expertes, formées chez le Dr Shogo Mochizuki de Tokyo. Soit un protocole qui apporte éclat et tonicité et qui propulse, le temps d’une petite heure, au Pays du Soleil-levant.  31 Avenue George V, 75008 Paris, Tel.01 49 52 70 00      Savourer les fabuleux sushis de L'Abysse  Au rez-de-chaussée du Pavillon Ledoyen, L'Abysse est le nouveau comptoir à sushis du chef triplement étoilé Yannick Alléno. Confiant les rênes à Yasunari Okazaki, tout y est fait à la japonaise et dans les plus grandes règles de l’art.\"]</highlights>\n",
      "</source>\n",
      "\n",
      "\n",
      "<source>\n",
      "    <url>https://www.vogue.fr/lifestyle/voyages/diaporama/les-adresses-de-lou-doillon-au-japon/41961</url>\n",
      "    <highlights>[\"Japon, 〒106-0032 Tokyo, Minato, Roppongi, ５丁目６−２０, Tel.81 3-6328-1960                 Le temple Hōkoku-ji à Kamakura Ancien temple bouddhiste, le Hōkoku-ji est aussi surnommé le « temple du bambou ». En comprenant plus de 200, le lieu est propice aux promenades zen dans la région de Kamakura. Le plus ? Sa petite tea room qui propose du thé matcha. 2-7-4 Jomyoji, Kamakura, Kanagawa Prefecture 248-0003, Japon                     Le quartier de Shimokitazawa à Tokyo Situé à l’ouest de Shinjuku, Shimokitazawa est un quartier qui se visite à pieds, à travers de minces ruelles jalonnées de boutiques kawaï, de bars, de friperies vintages, de théâtres…                 Le musée Ghibli à Tokyo Installé au sein du parc d'Inokashira, ce musée est consacré aux personnages des films d’animations imaginés par le studio Ghibili.\"]</highlights>\n",
      "</source>\n",
      "\n",
      "\n",
      "<source>\n",
      "    <url>https://www.vogue.fr/vogue-hommes/article/louis-vuitton-boutique-tokyo</url>\n",
      "    <highlights>[\"  Vous l'avez forcément aperçu sur votre feed Instagram : la nouvelle façade à effets miroir de la boutique  Louis Vuitton , implantée dans la capitale japonaise depuis 1981, est tout simplement saisissante. Inspirés par les reflets de l'eau de la cité portuaire, et de Ginza, les architectes Jun Aoki et Peter Marino dévoilent un édifice de plusieurs étages à l'aspect incurvé et ondulé, entièrement recouvert de verre à effet holographique, et d'un intérieur au charme tout aussi organique. La boutique tokyoïte de Louis Vuitton fait peau neuve Si l'extérieur à l'esthétique rafraîchissante a été imaginé par Jun Aoki, l'intérieur de la boutique, piqué d'influences mais aussi de couleurs très naturelles et souligné par un escalier proéminent en chêne sculpté et bordé de verre, a été conçu par l'architecte américain Peter Marino, que l'on connaît pour ses nombreuses collaborations avec artistes et maisons de mode dont  Dior , Calvin Klein ou encore  Yves Saint Laurent . À l'arrière du magasin, un second escalier est agrémenté d'une gigantesque fresque sublimée de l'œuvre de Kimiko Fujimura, Wave Blue Line. Sans oublier le mobilier tout en courbe signé Morten Stenbaek et Isamu Noguchi, conçu dans un désir de fluidité.  \"]</highlights>\n",
      "</source>\n",
      "\n"
     ]
    }
   ],
   "source": [
    "from langchain_exa import ExaSearchRetriever\n",
    "from langchain_core.prompts import PromptTemplate\n",
    "from langchain_core.runnables import RunnableLambda\n",
    "\n",
    "\n",
    "retriever = ExaSearchRetriever(k=3, highlights=True)\n",
    "\n",
    "document_prompt = PromptTemplate.from_template(\"\"\"\n",
    "<source>\n",
    "    <url>{url}</url>\n",
    "    <highlights>{highlights}</highlights>\n",
    "</source>\n",
    "\"\"\")\n",
    "\n",
    "document_chain = RunnableLambda(\n",
    "    lambda document: {\n",
    "        \"highlights\": document.metadata[\"highlights\"], \n",
    "        \"url\": document.metadata[\"url\"]\n",
    "    }\n",
    ") | document_prompt\n",
    "\n",
    "retrieval_chain = retriever | document_chain.map() | (lambda docs: \"\\n\".join([i.text for i in docs]))\n",
    "\n",
    "print(retrieval_chain.invoke(\"Meilleur endroit pour visiter le Japon\"))"
   ]
  },
  {
   "cell_type": "code",
   "execution_count": 18,
   "metadata": {},
   "outputs": [],
   "source": [
    "from langchain_core.runnables import RunnablePassthrough, RunnableParallel\n",
    "from langchain_core.prompts import ChatPromptTemplate\n",
    "from langchain_openai import ChatOpenAI\n",
    "\n",
    "generation_prompt = ChatPromptTemplate.from_messages([\n",
    "    (\"system\", \"Vous êtes un assistant de recherche expert. Vous utilisez du contexte en format xml pour répondre aux questions des utilisateurs.\"),\n",
    "    (\"human\", \"\"\"\n",
    "Veuillez répondre à la question suivante en vous basant sur le contexte fourni. Veuillez citer vos sources à la fin de votre réponse.:\n",
    "     \n",
    "Query: {query}\n",
    "---\n",
    "<context>\n",
    "{context}\n",
    "</context>\n",
    "\"\"\")\n",
    "])\n",
    "\n",
    "llm = ChatOpenAI()\n",
    "\n",
    "chain = RunnableParallel({\n",
    "    \"query\": RunnablePassthrough(),\n",
    "    \"context\": retrieval_chain,\n",
    "}) | generation_prompt | llm"
   ]
  },
  {
   "cell_type": "code",
   "execution_count": 16,
   "metadata": {},
   "outputs": [
    {
     "data": {
      "text/plain": [
       "\"Les meilleurs lieux touristiques en Corée du Sud incluent une variété d'attractions allant des villes dynamiques aux paysages naturels magnifiques. Vous pouvez découvrir l'essentiel de la péninsule sud-coréenne en explorant ses villes animées, ses campagnes pittoresques, ses mers et ses montagnes. Pour personnaliser votre voyage, vous pouvez également participer à des activités culturelles, historiques, en lien avec la nature ou la gastronomie. \\n\\nSources:\\n1. Site Web: https://www.coreevoyage.com/\\n2. Site Web: https://www.encoreedusud.com\\n3. Site Web: https://www.capcoree.fr/\""
      ]
     },
     "execution_count": 16,
     "metadata": {},
     "output_type": "execute_result"
    }
   ],
   "source": [
    "chain.invoke(\"Meilleurs lieux touristiques en Corée du Sud\").content"
   ]
  }
 ],
 "metadata": {
  "kernelspec": {
   "display_name": "Python 3",
   "language": "python",
   "name": "python3"
  },
  "language_info": {
   "codemirror_mode": {
    "name": "ipython",
    "version": 3
   },
   "file_extension": ".py",
   "mimetype": "text/x-python",
   "name": "python",
   "nbconvert_exporter": "python",
   "pygments_lexer": "ipython3",
   "version": "3.10.10"
  }
 },
 "nbformat": 4,
 "nbformat_minor": 2
}
