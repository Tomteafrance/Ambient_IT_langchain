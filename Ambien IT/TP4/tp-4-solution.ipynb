{
 "cells": [
  {
   "cell_type": "markdown",
   "metadata": {},
   "source": [
    "# Cours LangChain TP4"
   ]
  },
  {
   "cell_type": "markdown",
   "metadata": {},
   "source": [
    "Dans ce TP vous allez voir comment utiliser des chaînes et des agents avec un historique mémoire"
   ]
  },
  {
   "cell_type": "code",
   "execution_count": 2,
   "metadata": {},
   "outputs": [],
   "source": [
    "!pip install --upgrade --quiet  langchain-openai tavily-python\n",
    "\n",
    "import os\n",
    "os.environ['OPENAI_API_KEY']=\"OPENAI_API_KEY\" # À Modifier\n",
    "os.environ['TAVILY_API_KEY']=\"TAVILY_API_KEY\" # À Modifier"
   ]
  },
  {
   "cell_type": "markdown",
   "metadata": {},
   "source": [
    "## Exercice 1\n",
    "\n",
    "Construisez un assistant IA Utilisant l'historique de chat en mémoire pour répondre aux questions\n",
    "L'assistant devra utiliser une chaine avec un prompt simple "
   ]
  },
  {
   "cell_type": "code",
   "execution_count": 10,
   "metadata": {},
   "outputs": [],
   "source": [
    "from langchain_core.prompts import ChatPromptTemplate, MessagesPlaceholder\n",
    "from langchain_openai.chat_models import ChatOpenAI\n",
    "\n",
    "model = ChatOpenAI()\n",
    "prompt = ChatPromptTemplate.from_messages(\n",
    "    [\n",
    "        (\n",
    "            \"system\",\n",
    "            \"Tu es un assistant IA qui réponds aux questions de l'utilisateur en 20 mots ou moins. Tu réponds aux question dans la langue auquel on te l'a posé\",\n",
    "        ),\n",
    "        MessagesPlaceholder(variable_name=\"history\"),\n",
    "        (\"human\", \"{input}\"),\n",
    "    ]\n",
    ")\n",
    "runnable = prompt | model"
   ]
  },
  {
   "cell_type": "code",
   "execution_count": 4,
   "metadata": {},
   "outputs": [],
   "source": [
    "from langchain_community.chat_message_histories import ChatMessageHistory\n",
    "from langchain_core.chat_history import BaseChatMessageHistory\n",
    "from langchain_core.runnables.history import RunnableWithMessageHistory\n",
    "\n",
    "store = {}\n",
    "\n",
    "\n",
    "def get_session_history(session_id: str) -> BaseChatMessageHistory:\n",
    "    if session_id not in store:\n",
    "        store[session_id] = ChatMessageHistory()\n",
    "    return store[session_id]\n",
    "\n",
    "\n",
    "with_message_history = RunnableWithMessageHistory(\n",
    "    runnable,\n",
    "    get_session_history,\n",
    "    input_messages_key=\"input\",\n",
    "    history_messages_key=\"history\",\n",
    ")"
   ]
  },
  {
   "cell_type": "code",
   "execution_count": 5,
   "metadata": {},
   "outputs": [
    {
     "name": "stdout",
     "output_type": "stream",
     "text": [
      "Bonjour! je suis votre assistant IA. Comment puis-je vous aidez?\n"
     ]
    }
   ],
   "source": [
    "print(\"Bonjour! je suis votre assistant IA. Comment puis-je vous aidez?\")\n",
    "session_id = \"abc123\"\n",
    "for i in range(50):#50 echanges\n",
    "    question = input()\n",
    "    if question==\"clear\":\n",
    "        break\n",
    "    print(with_message_history.invoke(\n",
    "        {\"input\": question},\n",
    "        config={\"configurable\": {\"session_id\": session_id }},\n",
    "    ).content+\"\\n\")"
   ]
  },
  {
   "cell_type": "markdown",
   "metadata": {},
   "source": [
    "## Exercice 2\n",
    "\n",
    "Construisez un agent qui utilisera le tool Tavily pour faire du RAG à travers des recherches sur le net (vous pouvez utiliser l'exemple du cours) l'agent utilisera aussi l'historique de chat en mémoire pour répondre aux questions"
   ]
  },
  {
   "cell_type": "code",
   "execution_count": 25,
   "metadata": {},
   "outputs": [],
   "source": [
    "from langchain_community.tools.tavily_search import TavilySearchResults\n",
    "from langchain.agents import AgentExecutor, create_structured_chat_agent\n",
    "from langchain_core.messages import AIMessage, HumanMessage\n",
    "from langchain import hub\n",
    "\n",
    "# Initialize Tavily and an OpenAI chat model capable of tool calling\n",
    "tools = [TavilySearchResults(max_results=1)]\n",
    "chat = ChatOpenAI(model=\"gpt-3.5-turbo\", temperature=0)\n",
    "\n",
    "# Get the prompt to use - you can modify this!\n",
    "prompt = hub.pull(\"hwchase17/structured-chat-agent\")\n",
    "prompt.messages[0]\n",
    "# Assemble the agent\n",
    "agent = create_structured_chat_agent(chat, tools, prompt)\n",
    "\n",
    "# Create an agent executor by passing in the agent and tools\n",
    "agent_executor = AgentExecutor(\n",
    "    agent=agent, tools=tools, verbose=False, handle_parsing_errors=True\n",
    ")"
   ]
  },
  {
   "cell_type": "code",
   "execution_count": 23,
   "metadata": {},
   "outputs": [
    {
     "name": "stdout",
     "output_type": "stream",
     "text": [
      "Hi, I'm your AI assistant. How can I help you today?\n"
     ]
    }
   ],
   "source": [
    "from pprint import pprint\n",
    "print(\"Hi, I'm your AI assistant. How can I help you today?\")\n",
    "chat_history=ChatMessageHistory()\n",
    "for i in range(50):#50 echanges\n",
    "    question = input()\n",
    "    if question==\"clear\":\n",
    "        chat_history=[] \n",
    "        break\n",
    "    output = agent_executor.invoke(\n",
    "        {\n",
    "            \"input\": question,\n",
    "            \"chat_history\":chat_history.messages,\n",
    "        }\n",
    "        )[\"output\"]\n",
    "    pprint(output)\n",
    "    chat_history.add_message(HumanMessage(content=question))\n",
    "    chat_history.add_message(AIMessage(content=output))"
   ]
  },
  {
   "cell_type": "code",
   "execution_count": 13,
   "metadata": {},
   "outputs": [],
   "source": [
    "agent_with_message_history = RunnableWithMessageHistory(\n",
    "    agent_executor,\n",
    "    get_session_history,\n",
    "    input_messages_key=\"input\",\n",
    "    history_messages_key=\"history\",\n",
    ")"
   ]
  },
  {
   "cell_type": "markdown",
   "metadata": {},
   "source": [
    "Autre exemple avec `RunnableWithMessageHistory` (L'historique de chat semble un peu capricieux)"
   ]
  },
  {
   "cell_type": "code",
   "execution_count": null,
   "metadata": {},
   "outputs": [],
   "source": [
    "store = {}\n",
    "\n",
    "print(\"Bonjour! je suis votre assistant IA. Comment puis-je vous aidez?\")\n",
    "session_id = \"def123\"\n",
    "for i in range(50):#50 echanges\n",
    "    question = input()\n",
    "    if question==\"clear\":\n",
    "        break\n",
    "    print(agent_with_message_history.invoke(\n",
    "        {\"input\": question},\n",
    "        config={\"configurable\": {\"session_id\": session_id}},\n",
    "    )['output']+\"\\n\")"
   ]
  },
  {
   "cell_type": "code",
   "execution_count": null,
   "metadata": {},
   "outputs": [],
   "source": []
  }
 ],
 "metadata": {
  "kernelspec": {
   "display_name": "base",
   "language": "python",
   "name": "python3"
  },
  "language_info": {
   "codemirror_mode": {
    "name": "ipython",
    "version": 3
   },
   "file_extension": ".py",
   "mimetype": "text/x-python",
   "name": "python",
   "nbconvert_exporter": "python",
   "pygments_lexer": "ipython3",
   "version": "3.10.10"
  }
 },
 "nbformat": 4,
 "nbformat_minor": 2
}
