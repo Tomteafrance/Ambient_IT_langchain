{
 "cells": [
  {
   "cell_type": "markdown",
   "metadata": {},
   "source": [
    "# Embeddings with LangChain"
   ]
  },
  {
   "cell_type": "code",
   "execution_count": 1,
   "metadata": {},
   "outputs": [
    {
     "name": "stdout",
     "output_type": "stream",
     "text": [
      "Requirement already satisfied: langchain-openai in /Users/yassirmamouni/mambaforge/lib/python3.10/site-packages (0.0.7)\n",
      "Requirement already satisfied: langchain in /Users/yassirmamouni/mambaforge/lib/python3.10/site-packages (0.1.9)\n",
      "Requirement already satisfied: numpy<2,>=1 in /Users/yassirmamouni/mambaforge/lib/python3.10/site-packages (from langchain-openai) (1.25.2)\n",
      "Requirement already satisfied: tiktoken<1,>=0.5.2 in /Users/yassirmamouni/mambaforge/lib/python3.10/site-packages (from langchain-openai) (0.6.0)\n",
      "Requirement already satisfied: openai<2.0.0,>=1.10.0 in /Users/yassirmamouni/mambaforge/lib/python3.10/site-packages (from langchain-openai) (1.12.0)\n",
      "Requirement already satisfied: langchain-core<0.2.0,>=0.1.26 in /Users/yassirmamouni/mambaforge/lib/python3.10/site-packages (from langchain-openai) (0.1.26)\n",
      "Requirement already satisfied: langsmith<0.2.0,>=0.1.0 in /Users/yassirmamouni/mambaforge/lib/python3.10/site-packages (from langchain) (0.1.7)\n",
      "Requirement already satisfied: requests<3,>=2 in /Users/yassirmamouni/mambaforge/lib/python3.10/site-packages (from langchain) (2.31.0)\n",
      "Requirement already satisfied: PyYAML>=5.3 in /Users/yassirmamouni/mambaforge/lib/python3.10/site-packages (from langchain) (6.0.1)\n",
      "Requirement already satisfied: aiohttp<4.0.0,>=3.8.3 in /Users/yassirmamouni/mambaforge/lib/python3.10/site-packages (from langchain) (3.9.3)\n",
      "Requirement already satisfied: jsonpatch<2.0,>=1.33 in /Users/yassirmamouni/mambaforge/lib/python3.10/site-packages (from langchain) (1.33)\n",
      "Requirement already satisfied: langchain-community<0.1,>=0.0.21 in /Users/yassirmamouni/mambaforge/lib/python3.10/site-packages (from langchain) (0.0.24)\n",
      "Requirement already satisfied: dataclasses-json<0.7,>=0.5.7 in /Users/yassirmamouni/mambaforge/lib/python3.10/site-packages (from langchain) (0.6.4)\n",
      "Requirement already satisfied: tenacity<9.0.0,>=8.1.0 in /Users/yassirmamouni/mambaforge/lib/python3.10/site-packages (from langchain) (8.2.3)\n",
      "Requirement already satisfied: SQLAlchemy<3,>=1.4 in /Users/yassirmamouni/mambaforge/lib/python3.10/site-packages (from langchain) (2.0.27)\n",
      "Requirement already satisfied: async-timeout<5.0.0,>=4.0.0 in /Users/yassirmamouni/mambaforge/lib/python3.10/site-packages (from langchain) (4.0.3)\n",
      "Requirement already satisfied: pydantic<3,>=1 in /Users/yassirmamouni/mambaforge/lib/python3.10/site-packages (from langchain) (2.6.2)\n",
      "Requirement already satisfied: attrs>=17.3.0 in /Users/yassirmamouni/mambaforge/lib/python3.10/site-packages (from aiohttp<4.0.0,>=3.8.3->langchain) (23.2.0)\n",
      "Requirement already satisfied: aiosignal>=1.1.2 in /Users/yassirmamouni/mambaforge/lib/python3.10/site-packages (from aiohttp<4.0.0,>=3.8.3->langchain) (1.3.1)\n",
      "Requirement already satisfied: multidict<7.0,>=4.5 in /Users/yassirmamouni/mambaforge/lib/python3.10/site-packages (from aiohttp<4.0.0,>=3.8.3->langchain) (6.0.5)\n",
      "Requirement already satisfied: yarl<2.0,>=1.0 in /Users/yassirmamouni/mambaforge/lib/python3.10/site-packages (from aiohttp<4.0.0,>=3.8.3->langchain) (1.9.4)\n",
      "Requirement already satisfied: frozenlist>=1.1.1 in /Users/yassirmamouni/mambaforge/lib/python3.10/site-packages (from aiohttp<4.0.0,>=3.8.3->langchain) (1.4.1)\n",
      "Requirement already satisfied: typing-inspect<1,>=0.4.0 in /Users/yassirmamouni/mambaforge/lib/python3.10/site-packages (from dataclasses-json<0.7,>=0.5.7->langchain) (0.9.0)\n",
      "Requirement already satisfied: marshmallow<4.0.0,>=3.18.0 in /Users/yassirmamouni/mambaforge/lib/python3.10/site-packages (from dataclasses-json<0.7,>=0.5.7->langchain) (3.20.2)\n",
      "Requirement already satisfied: jsonpointer>=1.9 in /Users/yassirmamouni/mambaforge/lib/python3.10/site-packages (from jsonpatch<2.0,>=1.33->langchain) (2.4)\n",
      "Requirement already satisfied: anyio<5,>=3 in /Users/yassirmamouni/mambaforge/lib/python3.10/site-packages (from langchain-core<0.2.0,>=0.1.26->langchain-openai) (4.3.0)\n",
      "Requirement already satisfied: packaging<24.0,>=23.2 in /Users/yassirmamouni/mambaforge/lib/python3.10/site-packages (from langchain-core<0.2.0,>=0.1.26->langchain-openai) (23.2)\n",
      "Requirement already satisfied: orjson<4.0.0,>=3.9.14 in /Users/yassirmamouni/mambaforge/lib/python3.10/site-packages (from langsmith<0.2.0,>=0.1.0->langchain) (3.9.15)\n",
      "Requirement already satisfied: typing-extensions<5,>=4.7 in /Users/yassirmamouni/mambaforge/lib/python3.10/site-packages (from openai<2.0.0,>=1.10.0->langchain-openai) (4.9.0)\n",
      "Requirement already satisfied: tqdm>4 in /Users/yassirmamouni/mambaforge/lib/python3.10/site-packages (from openai<2.0.0,>=1.10.0->langchain-openai) (4.66.1)\n",
      "Requirement already satisfied: distro<2,>=1.7.0 in /Users/yassirmamouni/mambaforge/lib/python3.10/site-packages (from openai<2.0.0,>=1.10.0->langchain-openai) (1.9.0)\n",
      "Requirement already satisfied: httpx<1,>=0.23.0 in /Users/yassirmamouni/mambaforge/lib/python3.10/site-packages (from openai<2.0.0,>=1.10.0->langchain-openai) (0.27.0)\n",
      "Requirement already satisfied: sniffio in /Users/yassirmamouni/mambaforge/lib/python3.10/site-packages (from openai<2.0.0,>=1.10.0->langchain-openai) (1.3.0)\n",
      "Requirement already satisfied: pydantic-core==2.16.3 in /Users/yassirmamouni/mambaforge/lib/python3.10/site-packages (from pydantic<3,>=1->langchain) (2.16.3)\n",
      "Requirement already satisfied: annotated-types>=0.4.0 in /Users/yassirmamouni/mambaforge/lib/python3.10/site-packages (from pydantic<3,>=1->langchain) (0.6.0)\n",
      "Requirement already satisfied: urllib3<3,>=1.21.1 in /Users/yassirmamouni/mambaforge/lib/python3.10/site-packages (from requests<3,>=2->langchain) (2.1.0)\n",
      "Requirement already satisfied: idna<4,>=2.5 in /Users/yassirmamouni/mambaforge/lib/python3.10/site-packages (from requests<3,>=2->langchain) (3.6)\n",
      "Requirement already satisfied: certifi>=2017.4.17 in /Users/yassirmamouni/mambaforge/lib/python3.10/site-packages (from requests<3,>=2->langchain) (2023.11.17)\n",
      "Requirement already satisfied: charset-normalizer<4,>=2 in /Users/yassirmamouni/mambaforge/lib/python3.10/site-packages (from requests<3,>=2->langchain) (3.3.2)\n",
      "Requirement already satisfied: regex>=2022.1.18 in /Users/yassirmamouni/mambaforge/lib/python3.10/site-packages (from tiktoken<1,>=0.5.2->langchain-openai) (2023.12.25)\n",
      "Requirement already satisfied: exceptiongroup>=1.0.2 in /Users/yassirmamouni/mambaforge/lib/python3.10/site-packages (from anyio<5,>=3->langchain-core<0.2.0,>=0.1.26->langchain-openai) (1.2.0)\n",
      "Requirement already satisfied: httpcore==1.* in /Users/yassirmamouni/mambaforge/lib/python3.10/site-packages (from httpx<1,>=0.23.0->openai<2.0.0,>=1.10.0->langchain-openai) (1.0.4)\n",
      "Requirement already satisfied: h11<0.15,>=0.13 in /Users/yassirmamouni/mambaforge/lib/python3.10/site-packages (from httpcore==1.*->httpx<1,>=0.23.0->openai<2.0.0,>=1.10.0->langchain-openai) (0.14.0)\n",
      "Requirement already satisfied: mypy-extensions>=0.3.0 in /Users/yassirmamouni/mambaforge/lib/python3.10/site-packages (from typing-inspect<1,>=0.4.0->dataclasses-json<0.7,>=0.5.7->langchain) (1.0.0)\n"
     ]
    }
   ],
   "source": [
    "!pip install -U langchain-openai langchain\n",
    "OPENAI_API_KEY= \"YOUR_API_KEY\""
   ]
  },
  {
   "cell_type": "code",
   "execution_count": 5,
   "metadata": {},
   "outputs": [],
   "source": [
    "from langchain_openai import OpenAIEmbeddings\n",
    "\n",
    "model_name = 'text-embedding-3-small'\n",
    "\n",
    "embed = OpenAIEmbeddings(\n",
    "    model=model_name,\n",
    "    openai_api_key=OPENAI_API_KEY\n",
    ")"
   ]
  },
  {
   "cell_type": "code",
   "execution_count": 14,
   "metadata": {},
   "outputs": [
    {
     "name": "stdout",
     "output_type": "stream",
     "text": [
      "2 28\n",
      "2 1536\n"
     ]
    }
   ],
   "source": [
    "texts = [\n",
    "    'Ceci est un morceau de texte',\n",
    "    'puis ceci est un autre bout de texte'\n",
    "]\n",
    "print(len(texts), len(texts[0]))\n",
    "res = embed.embed_documents(texts)\n",
    "print(len(res), len(res[0]))"
   ]
  },
  {
   "cell_type": "code",
   "execution_count": 11,
   "metadata": {},
   "outputs": [
    {
     "data": {
      "text/plain": [
       "28"
      ]
     },
     "execution_count": 11,
     "metadata": {},
     "output_type": "execute_result"
    }
   ],
   "source": []
  },
  {
   "cell_type": "code",
   "execution_count": null,
   "metadata": {},
   "outputs": [],
   "source": []
  }
 ],
 "metadata": {
  "kernelspec": {
   "display_name": "base",
   "language": "python",
   "name": "python3"
  },
  "language_info": {
   "codemirror_mode": {
    "name": "ipython",
    "version": 3
   },
   "file_extension": ".py",
   "mimetype": "text/x-python",
   "name": "python",
   "nbconvert_exporter": "python",
   "pygments_lexer": "ipython3",
   "version": "3.10.10"
  }
 },
 "nbformat": 4,
 "nbformat_minor": 2
}
