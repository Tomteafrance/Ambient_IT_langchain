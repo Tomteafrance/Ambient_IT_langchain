{
 "cells": [
  {
   "cell_type": "markdown",
   "metadata": {},
   "source": [
    "# Cours LangChain TP2"
   ]
  },
  {
   "cell_type": "markdown",
   "metadata": {},
   "source": [
    "Dans ce TP vous allez voir comment créer des chaines simples et comment utilser des Agents"
   ]
  },
  {
   "cell_type": "markdown",
   "metadata": {},
   "source": [
    "install et import de clé API"
   ]
  },
  {
   "cell_type": "code",
   "execution_count": null,
   "metadata": {},
   "outputs": [],
   "source": [
    "!pip install -U langchain-openai langchain docarray tiktoken"
   ]
  },
  {
   "cell_type": "code",
   "execution_count": 3,
   "metadata": {},
   "outputs": [],
   "source": [
    "import os\n",
    "os.environ['OPENAI_API_KEY']=\"OPENAI_API_KEY\" # À Modifier"
   ]
  },
  {
   "cell_type": "markdown",
   "metadata": {},
   "source": [
    "## Tâche 1 : Créer une chaîne simple\n",
    "\n",
    "* Objectif : Les élèves créeront une chaîne simple impliquant une séquence d'appels à un modèle de langage ou à d'autres utilitaires.\n",
    "* Partie pratique : Les élèves définissent une séquence d'appels, intègrent des outils et exécutent la chaîne pour observer la séquence des actions."
   ]
  },
  {
   "cell_type": "markdown",
   "metadata": {},
   "source": [
    "### Exercice 1 \n",
    "Il y a un document texte racontant une histoire fictive d'un detective privé\n",
    "Le but de ce TP est de créer des chaines simples à partir de modules vus en cours pour les combiner ensembles\n",
    "\n",
    "Tout d'abord chargez et splitter le document texte `document.txt`, puis mettez le en vectorb db locale avec `DocArrayInMemorySearch`"
   ]
  },
  {
   "cell_type": "code",
   "execution_count": 5,
   "metadata": {},
   "outputs": [
    {
     "data": {
      "text/plain": [
       "[Document(page_content=\"Aaron, âgé de 35 ans, vit dans la ville animée de New York, où il est détective privé.\\nNé dans une famille nombreuse, Aaron est le deuxième de quatre enfants. \\nIl a deux frères, James et Marcus, ainsi qu'une sœur défunte, Emily, décédée tragiquement dans un accident de voiture il y a quelques années.\", metadata={'source': 'document.txt'}),\n",
       " Document(page_content='Depuis son plus jeune âge, Aaron a été fasciné par les mystères et les énigmes. \\nAprès avoir obtenu son diplôme en criminologie, il a décidé de suivre les traces de son père, un ancien policier, et de devenir détective privé.', metadata={'source': 'document.txt'}),\n",
       " Document(page_content=\"Aaron mène une vie solitaire et dévouée à son travail. \\nIl passe ses journées à résoudre des affaires complexes, arpentant les rues de la ville à la recherche d'indices et de témoins. \\nSon bureau est un sanctuaire de dossiers et de documents, où il passe des heures à analyser les détails les plus infimes pour résoudre ses affaires.\", metadata={'source': 'document.txt'}),\n",
       " Document(page_content='Malgré son emploi du temps chargé, Aaron reste proche de ses frères, James et Marcus, qui le soutiennent dans son travail difficile. \\nIls se réunissent souvent pour dîner en famille et se remémorer les souvenirs de leur enfance.', metadata={'source': 'document.txt'}),\n",
       " Document(page_content=\"La perte de leur sœur Emily a laissé une cicatrice indélébile dans la vie d'Aaron, et il garde toujours une photo d'elle sur son bureau en guise de rappel de sa mémoire.\\nSa mort l'a motivé à rechercher la justice pour les autres et à mettre les criminels derrière les barreaux, en espérant ainsi éviter à d'autres familles la douleur qu'ils ont ressentie.\", metadata={'source': 'document.txt'}),\n",
       " Document(page_content='Malgré les défis et les dangers de son métier, Aaron reste déterminé à faire tout ce qui est en son pouvoir pour rendre la ville plus sûre et plus juste pour tous ses habitants.', metadata={'source': 'document.txt'})]"
      ]
     },
     "execution_count": 5,
     "metadata": {},
     "output_type": "execute_result"
    }
   ],
   "source": [
    "from langchain_community.document_loaders import TextLoader\n",
    "from langchain_community.vectorstores import FAISS\n",
    "from langchain_openai import OpenAIEmbeddings\n",
    "from langchain_text_splitters import CharacterTextSplitter\n",
    "\n",
    "#TO DO\n",
    "documents = TextLoader(\"document.txt\").load()\n",
    "text_splitter = CharacterTextSplitter(chunk_size=500, chunk_overlap=0)\n",
    "docs = text_splitter.split_documents(documents)\n",
    "docs"
   ]
  },
  {
   "cell_type": "markdown",
   "metadata": {},
   "source": [
    "### Exercice 2 \n",
    "Utiliser cette base de donnée en tant que retriever "
   ]
  },
  {
   "cell_type": "code",
   "execution_count": 6,
   "metadata": {},
   "outputs": [],
   "source": [
    "# TO DO\n",
    "embeddings = OpenAIEmbeddings()\n",
    "db = FAISS.from_documents(docs, embeddings)\n",
    "retriever = db.as_retriever()"
   ]
  },
  {
   "cell_type": "markdown",
   "metadata": {},
   "source": [
    "### Exercice 3 \n",
    "\n",
    "Créer un prompt dans lequel vous allez rajouter une variable `context` qui sera le contexte du retriever et une variable `question` pour demander à l'utilisateurs des questions sur l'histoire du document texte"
   ]
  },
  {
   "cell_type": "code",
   "execution_count": 9,
   "metadata": {},
   "outputs": [
    {
     "data": {
      "text/plain": [
       "PromptTemplate(input_variables=['context', 'question'], template='Réponds aux questions en te servant du contexte suivant:\\n{context}\\n\\nQuestion: {question}\\n')"
      ]
     },
     "execution_count": 9,
     "metadata": {},
     "output_type": "execute_result"
    }
   ],
   "source": [
    "from langchain_core.prompts import PromptTemplate\n",
    "\n",
    "#TO DO\n",
    "template = \"\"\"Réponds aux questions en te servant du contexte suivant:\n",
    "{context}\n",
    "\n",
    "Question: {question}\n",
    "\"\"\"\n",
    "prompt = PromptTemplate.from_template(template)\n",
    "prompt"
   ]
  },
  {
   "cell_type": "markdown",
   "metadata": {},
   "source": [
    "### Exercice 4\n",
    "Utiliser les réponse précedentes pour créer une chaines qui utilisera le retriever pour répondre au questions de l'utilisateur"
   ]
  },
  {
   "cell_type": "code",
   "execution_count": 10,
   "metadata": {},
   "outputs": [],
   "source": [
    "from langchain_core.runnables import RunnableParallel, RunnablePassthrough\n",
    "from langchain_openai import OpenAI\n",
    "from langchain_core.output_parsers import StrOutputParser\n",
    "\n",
    "\n",
    "#utiliser le retriever en element à passer à la chaine \n",
    "# TO DO\n",
    "setup_and_retrieval = RunnableParallel(\n",
    "    {\"context\": retriever, \"question\": RunnablePassthrough()}\n",
    ")\n",
    "\n",
    "model = OpenAI()\n",
    "output_parser = StrOutputParser()\n",
    "\n",
    "#declarer un OutputParser pour sortir le contenu en chain de charactères simples\n",
    "\n",
    "#declarer la chaine\n",
    "chain = setup_and_retrieval | prompt | model | output_parser #TO DO"
   ]
  },
  {
   "cell_type": "code",
   "execution_count": 13,
   "metadata": {},
   "outputs": [
    {
     "data": {
      "text/plain": [
       "'Réponse: Les frères du personnage principal sont James et Marcus, et sa sœur défunte est Emily.'"
      ]
     },
     "execution_count": 13,
     "metadata": {},
     "output_type": "execute_result"
    }
   ],
   "source": [
    "from langchain.callbacks import StdOutCallbackHandler\n",
    "\n",
    "\n",
    "chain.invoke(\"Quels étaient les frères et soeurs du personnage principal?\")"
   ]
  },
  {
   "cell_type": "code",
   "execution_count": 21,
   "metadata": {},
   "outputs": [
    {
     "name": "stdout",
     "output_type": "stream",
     "text": [
      "\n",
      "\n",
      "\u001b[1m> Entering new RunnableSequence chain...\u001b[0m\n",
      "\n",
      "\n",
      "\u001b[1m> Entering new RunnableParallel<context,question> chain...\u001b[0m\n",
      "\n",
      "\n",
      "\u001b[1m> Entering new RunnablePassthrough chain...\u001b[0m\n",
      "\n",
      "\u001b[1m> Finished chain.\u001b[0m\n",
      "\n",
      "\u001b[1m> Finished chain.\u001b[0m\n",
      "\n",
      "\n",
      "\u001b[1m> Entering new PromptTemplate chain...\u001b[0m\n",
      "\n",
      "\u001b[1m> Finished chain.\u001b[0m\n",
      "\n",
      "\n",
      "\u001b[1m> Entering new StrOutputParser chain...\u001b[0m\n",
      "\n",
      "\u001b[1m> Finished chain.\u001b[0m\n",
      "\n",
      "\u001b[1m> Finished chain.\u001b[0m\n"
     ]
    },
    {
     "data": {
      "text/plain": [
       "'Réponse: Les frères et sœur du personnage principal sont James, Marcus et Emily.'"
      ]
     },
     "execution_count": 21,
     "metadata": {},
     "output_type": "execute_result"
    }
   ],
   "source": [
    "#Solution\n",
    "from langchain_community.document_loaders import TextLoader\n",
    "from langchain_community.vectorstores import FAISS\n",
    "from langchain_openai import OpenAIEmbeddings\n",
    "from langchain_text_splitters import CharacterTextSplitter\n",
    "from langchain_openai import OpenAI\n",
    "from langchain_core.prompts import ChatPromptTemplate\n",
    "from langchain_core.output_parsers import StrOutputParser\n",
    "from langchain_core.runnables import RunnableParallel, RunnablePassthrough\n",
    "\n",
    "\n",
    "documents = TextLoader(\"document.txt\").load()\n",
    "text_splitter = CharacterTextSplitter(chunk_size=500, chunk_overlap=0)\n",
    "docs = text_splitter.split_documents(documents)\n",
    "\n",
    "embeddings = OpenAIEmbeddings()\n",
    "\n",
    "db = FAISS.from_documents(docs, embeddings)\n",
    "\n",
    "retriever = db.as_retriever()\n",
    "\n",
    "template = \"\"\"Réponds aux questions en te servant du contexte suivant:\n",
    "{context}\n",
    "\n",
    "Question: {question}\n",
    "\"\"\"\n",
    "prompt = PromptTemplate.from_template(template)\n",
    "model = OpenAI()\n",
    "output_parser = StrOutputParser()\n",
    "\n",
    "setup_and_retrieval = RunnableParallel(\n",
    "    {\"context\": retriever, \"question\": RunnablePassthrough()}\n",
    ")\n",
    "chain = setup_and_retrieval | prompt | model | output_parser\n",
    "\n",
    "chain.invoke(\"Quels étaient les frères et soeurs du personnage principal?\",config = {'callbacks' : [handler]})"
   ]
  },
  {
   "cell_type": "markdown",
   "metadata": {},
   "source": [
    "## Tâche 2 : Mise en œuvre d'un agent\n",
    "\n",
    "* Objectif : Les élèves mettront en œuvre un agent qui utilise un LLM comme moteur de raisonnement pour prendre des décisions sur les actions à entreprendre.\n",
    "* Partie pratique : Les élèves définiront un agent, créeront des outils et utiliseront l'`AgentExecutor` pour exécuter l'agent et observer le processus de prise de décision basé sur les réponses du modèle de langage."
   ]
  },
  {
   "cell_type": "markdown",
   "metadata": {},
   "source": [
    "Le but sera de créer un agent qui va récuperer ce document et de continuer l'histoire. À partir des réponse précedentes et de vos recherches sur la documentation Langchain\n",
    "Créez deux tools appelant le retriever:\n",
    "* Un qui aura comme instruction de continuer l'histoire\n",
    "* Un qui devra juste répondre aux question de l'utilisateurs\n",
    "\n",
    "Créer un agent qui intègre ces deux outils et call un LLM"
   ]
  },
  {
   "cell_type": "code",
   "execution_count": null,
   "metadata": {},
   "outputs": [],
   "source": [
    "#Solution\n",
    "from langchain_community.document_loaders import TextLoader\n",
    "from langchain_community.vectorstores import FAISS\n",
    "from langchain_openai import OpenAIEmbeddings\n",
    "from langchain_text_splitters import CharacterTextSplitter\n",
    "from langchain import hub\n",
    "from langchain_openai import ChatOpenAI\n",
    "from langchain.tools.retriever import create_retriever_tool\n",
    "from langchain.agents import AgentExecutor, create_openai_tools_agent\n",
    "#Load document\n",
    "#TODO\n",
    "\n",
    "#retriever \n",
    "#TODO\n",
    "\n",
    "#Creation des deux tools\n",
    "#TODO\n",
    "\n",
    "#Prompt\n",
    "#TODO\n",
    "\n",
    "#Création d'un Agent\n",
    "#TODO"
   ]
  },
  {
   "cell_type": "code",
   "execution_count": 36,
   "metadata": {},
   "outputs": [],
   "source": [
    "#Solution\n",
    "from langchain_community.document_loaders import TextLoader\n",
    "from langchain_community.vectorstores import FAISS\n",
    "from langchain_openai import OpenAIEmbeddings\n",
    "from langchain_text_splitters import CharacterTextSplitter\n",
    "from langchain import hub\n",
    "from langchain_openai import ChatOpenAI\n",
    "from langchain.tools.retriever import create_retriever_tool\n",
    "from langchain.agents import AgentExecutor, create_openai_tools_agent\n",
    "#Load document\n",
    "documents = TextLoader(\"document.txt\").load()\n",
    "text_splitter = CharacterTextSplitter(chunk_size=500, chunk_overlap=0)\n",
    "docs = text_splitter.split_documents(documents)\n",
    "\n",
    "embeddings = OpenAIEmbeddings()\n",
    "db = FAISS.from_documents(docs, embeddings)\n",
    "\n",
    "#retriever \n",
    "retriever = db.as_retriever()\n",
    "\n",
    "#Creation des deux tools\n",
    "\n",
    "tool_a = create_retriever_tool(\n",
    "    retriever,\n",
    "    \"continue_story\",\n",
    "    \"Continue l'histoire avec un nouveau crime\",\n",
    ")\n",
    "tool_b = create_retriever_tool(\n",
    "    retriever,\n",
    "    \"explain_story\",\n",
    "    \"Réponds à la question de l'utilisateurs sur l'histoire\",\n",
    ")\n",
    "tools = [tool_a,tool_b]\n",
    "\n",
    "#Prompt from hub\n",
    "prompt = hub.pull(\"hwchase17/openai-tools-agent\")\n",
    "prompt.messages[0].prompt.template=\"Tu es un assistant IA serviable.\" # Force le prompt à être en fr\n",
    "\n",
    "#Création d'un Agent\n",
    "llm = ChatOpenAI(temperature=0)\n",
    "agent = create_openai_tools_agent(llm, tools, prompt)\n",
    "agent_executor = AgentExecutor(agent=agent, tools=tools,verbose=True)\n"
   ]
  },
  {
   "cell_type": "code",
   "execution_count": 37,
   "metadata": {},
   "outputs": [
    {
     "name": "stdout",
     "output_type": "stream",
     "text": [
      "\n",
      "\n",
      "\u001b[1m> Entering new AgentExecutor chain...\u001b[0m\n",
      "\u001b[32;1m\u001b[1;3m\n",
      "Invoking: `explain_story` with `{'query': \"frères d'Aaron\"}`\n",
      "\n",
      "\n",
      "\u001b[0m\u001b[33;1m\u001b[1;3mMalgré son emploi du temps chargé, Aaron reste proche de ses frères, James et Marcus, qui le soutiennent dans son travail difficile. \n",
      "Ils se réunissent souvent pour dîner en famille et se remémorer les souvenirs de leur enfance.\n",
      "\n",
      "Aaron, âgé de 35 ans, vit dans la ville animée de New York, où il est détective privé.\n",
      "Né dans une famille nombreuse, Aaron est le deuxième de quatre enfants. \n",
      "Il a deux frères, James et Marcus, ainsi qu'une sœur défunte, Emily, décédée tragiquement dans un accident de voiture il y a quelques années.\n",
      "\n",
      "La perte de leur sœur Emily a laissé une cicatrice indélébile dans la vie d'Aaron, et il garde toujours une photo d'elle sur son bureau en guise de rappel de sa mémoire.\n",
      "Sa mort l'a motivé à rechercher la justice pour les autres et à mettre les criminels derrière les barreaux, en espérant ainsi éviter à d'autres familles la douleur qu'ils ont ressentie.\n",
      "\n",
      "Depuis son plus jeune âge, Aaron a été fasciné par les mystères et les énigmes. \n",
      "Après avoir obtenu son diplôme en criminologie, il a décidé de suivre les traces de son père, un ancien policier, et de devenir détective privé.\u001b[0m\u001b[32;1m\u001b[1;3mAaron a deux frères, James et Marcus. Ils sont proches et se soutiennent mutuellement malgré les défis de la vie.\u001b[0m\n",
      "\n",
      "\u001b[1m> Finished chain.\u001b[0m\n"
     ]
    },
    {
     "data": {
      "text/plain": [
       "{'input': \"Quels étaient les frères d'Aaron?\",\n",
       " 'output': 'Aaron a deux frères, James et Marcus. Ils sont proches et se soutiennent mutuellement malgré les défis de la vie.'}"
      ]
     },
     "execution_count": 37,
     "metadata": {},
     "output_type": "execute_result"
    }
   ],
   "source": [
    "agent_executor.invoke({\"input\": \"Quels étaient les frères d'Aaron?\"})"
   ]
  },
  {
   "cell_type": "code",
   "execution_count": 38,
   "metadata": {},
   "outputs": [
    {
     "name": "stdout",
     "output_type": "stream",
     "text": [
      "\n",
      "\n",
      "\u001b[1m> Entering new AgentExecutor chain...\u001b[0m\n",
      "\u001b[32;1m\u001b[1;3m\n",
      "Invoking: `continue_story` with `{'query': 'continue story'}`\n",
      "\n",
      "\n",
      "\u001b[0m\u001b[36;1m\u001b[1;3mMalgré son emploi du temps chargé, Aaron reste proche de ses frères, James et Marcus, qui le soutiennent dans son travail difficile. \n",
      "Ils se réunissent souvent pour dîner en famille et se remémorer les souvenirs de leur enfance.\n",
      "\n",
      "Malgré les défis et les dangers de son métier, Aaron reste déterminé à faire tout ce qui est en son pouvoir pour rendre la ville plus sûre et plus juste pour tous ses habitants.\n",
      "\n",
      "La perte de leur sœur Emily a laissé une cicatrice indélébile dans la vie d'Aaron, et il garde toujours une photo d'elle sur son bureau en guise de rappel de sa mémoire.\n",
      "Sa mort l'a motivé à rechercher la justice pour les autres et à mettre les criminels derrière les barreaux, en espérant ainsi éviter à d'autres familles la douleur qu'ils ont ressentie.\n",
      "\n",
      "Depuis son plus jeune âge, Aaron a été fasciné par les mystères et les énigmes. \n",
      "Après avoir obtenu son diplôme en criminologie, il a décidé de suivre les traces de son père, un ancien policier, et de devenir détective privé.\u001b[0m\u001b[32;1m\u001b[1;3mL'histoire du détective Aaron se poursuit avec son engagement à rendre la ville plus sûre et plus juste, tout en restant proche de sa famille malgré les défis de son métier. Sa détermination à rechercher la justice pour les autres est motivée par la perte de sa sœur Emily. Son parcours en tant que détective privé est marqué par sa passion pour les mystères et les énigmes, héritée de son père policier.\u001b[0m\n",
      "\n",
      "\u001b[1m> Finished chain.\u001b[0m\n"
     ]
    },
    {
     "data": {
      "text/plain": [
       "{'input': \"Continue l'histoire du détective.\",\n",
       " 'output': \"L'histoire du détective Aaron se poursuit avec son engagement à rendre la ville plus sûre et plus juste, tout en restant proche de sa famille malgré les défis de son métier. Sa détermination à rechercher la justice pour les autres est motivée par la perte de sa sœur Emily. Son parcours en tant que détective privé est marqué par sa passion pour les mystères et les énigmes, héritée de son père policier.\"}"
      ]
     },
     "execution_count": 38,
     "metadata": {},
     "output_type": "execute_result"
    }
   ],
   "source": [
    "agent_executor.invoke({\"input\": \"Continue l'histoire du détective.\"})"
   ]
  },
  {
   "cell_type": "code",
   "execution_count": null,
   "metadata": {},
   "outputs": [],
   "source": []
  }
 ],
 "metadata": {
  "kernelspec": {
   "display_name": "base",
   "language": "python",
   "name": "python3"
  },
  "language_info": {
   "codemirror_mode": {
    "name": "ipython",
    "version": 3
   },
   "file_extension": ".py",
   "mimetype": "text/x-python",
   "name": "python",
   "nbconvert_exporter": "python",
   "pygments_lexer": "ipython3",
   "version": "3.10.10"
  }
 },
 "nbformat": 4,
 "nbformat_minor": 2
}
